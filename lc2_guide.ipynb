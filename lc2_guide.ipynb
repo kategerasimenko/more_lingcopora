{
 "cells": [
  {
   "cell_type": "markdown",
   "metadata": {},
   "source": [
    "akv17"
   ]
  },
  {
   "cell_type": "markdown",
   "metadata": {},
   "source": [
    "## Коротко о концепте"
   ]
  },
  {
   "cell_type": "markdown",
   "metadata": {},
   "source": [
    "В целях унификации выдачи каждого *корпуса / словаря / чего-то еще* удобно ввести объекты типа __`Result`__ и __`Target`__.<br>\n",
    "Тип __`Result`__ содержит все результаты одного запроса.<br>\n",
    "Тип __`Target`__ является оболочкой для одного целевого вхождения (найденного слова, соответствующего запросу).<br>\n",
    "Выдача произвольного *корпуса / словаря / чего-то еще* представлена в виде одного объекта типа __`Result`__, содержащего $N$ объектов типа __`Target`__, где $N$ = `numResults`.<br>\n",
    "\n",
    "Помимо этого был переписан тип __`Query`__ , в результате чего упразднены типы __`Manager`__, __`Session`__ и __`Downloader`__ (*__Downloader__ по желанию можно оставить*)"
   ]
  },
  {
   "cell_type": "markdown",
   "metadata": {},
   "source": [
    "## Ключевые изменения"
   ]
  },
  {
   "cell_type": "markdown",
   "metadata": {},
   "source": [
    "- __PageParser__ произвольного *корпуса / словаря / чего-то еще* должен иметь метод `.extract()`, с помощью которого объекты типа __`Target`__ для каждого найденного целевого вхождения are streamed via `yield` напрямую в __`Query`__`.search()`. Таким образом, `.extract()` является генератором, передающим объекты типа __`Target`__. Более никаких ограничений на архитектуру __PageParser__ нет.\n",
    "- тип __Query__ инициализируется только одним параметром `language`.\n",
    "- все возможные параметры всех реализованных *корпусов / словарей / чего-то еще* хранятся в __`params_container.Container`__ "
   ]
  },
  {
   "cell_type": "markdown",
   "metadata": {},
   "source": [
    "## Прототип создания объекта типа Target"
   ]
  },
  {
   "cell_type": "markdown",
   "metadata": {},
   "source": [
    "Требуется предоставить 4 параметра:\n",
    "- строку всего предложения / документа с текущим целевым вхождением как параметр `text`\n",
    "- индексы начала и конца целевого вхождения в `.text` на символьном уровне как параметр `idxs`<br>\n",
    "      пример: пусть `query = 'два'`, `.text = 'раз, два и три!'`, тогда `.idxs = (5, 8)`, т.к. `.text[5:8] = 'два'`\n",
    "- информация о предложении / документе как параметр `meta` (давайте пустую строку, если нету информации)\n",
    "- тэги целевого вхождения как параметр `tags` (по умолчанию как тип `dict`; пустой список, если нет)\n",
    "\n",
    "__ВАЖНО__: ожидается один объект типа __Target__ на одно целевое вхождение. Как следствие, если у вас более одного целевого вхождения в одном предложении / документе, разбейте их на несколько объектов типа __Target__."
   ]
  },
  {
   "cell_type": "code",
   "execution_count": null,
   "metadata": {
    "collapsed": true
   },
   "outputs": [],
   "source": [
    "class Target:\n",
    "    def __init__(self, text, idxs, meta, tags):\n",
    "        \"\"\"\n",
    "        text: str: full sentence / document\n",
    "        idxs: tuple (l, r): target idxs in self.text -> self.text[l:r]\n",
    "        meta: str: sentence / document info\n",
    "        tags: dict?: target tags\n",
    "        \"\"\"\n",
    "        self.text = text\n",
    "        self.idxs = idxs\n",
    "        self.meta = meta\n",
    "        self.tags = tags\n",
    "    \n",
    "    # ..."
   ]
  },
  {
   "cell_type": "markdown",
   "metadata": {},
   "source": [
    "## Прототип PageParser"
   ]
  },
  {
   "cell_type": "code",
   "execution_count": null,
   "metadata": {
    "collapsed": true
   },
   "outputs": [],
   "source": [
    "class PageParser(Container):\n",
    "    def __init__(self, *args, **kwargs):\n",
    "        super().__init__(*args, **kwargs)\n",
    "        # ...\n",
    "    \n",
    "    def любой_ваш_метод_для_получения_результатов(self):\n",
    "        pass\n",
    "    \n",
    "    # ...\n",
    "    \n",
    "    def любой_ваш_метод_для_получения_результатов_10(self):\n",
    "        pass\n",
    "    \n",
    "    def extract(self):\n",
    "        \"\"\"\n",
    "        --- ГЕНЕРАТОР ПО НАЙДЕННЫМ ЦЕЛЕВЫМ ВХОЖДЕНИЯМ\n",
    "            КАК ТИПАМ Target.\n",
    "            сюда обращается Query.search() ---\n",
    "        \"\"\"\n",
    "        # ...\n",
    "        \n",
    "        # для каждого найденного целевого\n",
    "        # вхождения отдадим в Query.search()\n",
    "        # объект типа Target,\n",
    "        # описывающий данное найденное целевое вхождение\n",
    "        for text, idxs, meta, tags in found:\n",
    "            yield Target(text, idxs, meta, tags)"
   ]
  },
  {
   "cell_type": "markdown",
   "metadata": {},
   "source": [
    "## Как собрать тестовый билд у себя:\n",
    "- 0: Положить в одно место __query.py__, __params_container.py__, __target.py__, и __result.py__ \n",
    "- 1: Положить в подпапку corpora (уже есть в репозитории) .py скрипт вашего *корпуса / словаря / чего-то еще*\n",
    "- 2: Импортнуть тип __Target__ в .py вашего *корпуса / словаря / чего-то еще*: `from target import Target`\n",
    "- 3: Добавить alias вашего *корпуса / словаря / чего-то еще* в `functions` как ключ (этот ключ передается в `Query` как `language`): `functions = {'my_corp': my_corpus}`\n",
    "- 4: В любом редакторе: `import query / from query import Query` --> готово"
   ]
  },
  {
   "cell_type": "markdown",
   "metadata": {},
   "source": [
    "## Краткое руководство использования\n",
    "- инициализировать объект типа __Query__ для работы с определенным *языком / словарем / чем-то еще*\n",
    "- сделать запрос / мультизапрос через `Query.search()`\n",
    "- получить выдачу как список типов __Result__ для запроса / каждого из запросов (мультизапрос)\n",
    "- получить список типов __Target__ как `Result.results`"
   ]
  },
  {
   "cell_type": "markdown",
   "metadata": {},
   "source": [
    "### Пример"
   ]
  },
  {
   "cell_type": "code",
   "execution_count": 1,
   "metadata": {
    "collapsed": true
   },
   "outputs": [],
   "source": [
    "from query import Query"
   ]
  },
  {
   "cell_type": "code",
   "execution_count": 2,
   "metadata": {
    "collapsed": true
   },
   "outputs": [],
   "source": [
    "q = Query(language='rus')"
   ]
  },
  {
   "cell_type": "code",
   "execution_count": 3,
   "metadata": {
    "collapsed": false
   },
   "outputs": [
    {
     "name": "stderr",
     "output_type": "stream",
     "text": [
      "Query \"фонема\": 100%|████████████████████████████████████████████████████████████████| 10/10 [00:04<00:00,  2.42docs/s]\n"
     ]
    }
   ],
   "source": [
    "r = q.search('фонема', numResults=10)"
   ]
  },
  {
   "cell_type": "code",
   "execution_count": 4,
   "metadata": {
    "collapsed": false
   },
   "outputs": [
    {
     "data": {
      "text/plain": [
       "[Result(фонема, 10)]"
      ]
     },
     "execution_count": 4,
     "metadata": {},
     "output_type": "execute_result"
    }
   ],
   "source": [
    "r"
   ]
  },
  {
   "cell_type": "code",
   "execution_count": 5,
   "metadata": {
    "collapsed": false
   },
   "outputs": [
    {
     "data": {
      "text/plain": [
       "[Target(фоне́ма, А. А. Зализняк. Лингвистика по А. Т. Фоменко // «Вопросы языкознания», 2000),\n",
       " Target(фонема, В. А. Успенский. Математическое и гуманитарное: преодоление барьера (2007-2011)),\n",
       " Target(фонема, Андрей Зализняк. О профессиональной и любительской лингвистике // «Наука и жизнь», 2009),\n",
       " Target(фонема, Андрей Зализняк. О профессиональной и любительской лингвистике // «Наука и жизнь», 2009),\n",
       " Target(Фонема, А. В. Суперанская. Вновь о букве Ё // «Наука и жизнь», 2008),\n",
       " Target(фонема, Михаил Гиголашвили. Красный озноб Тингитаны: Записки о Марокко (2006) // «Нева», 2008),\n",
       " Target(фонема, Л. А. Гоготишвили. «Эйдетический язык» (реконструкция и интерпретация радикальной феноменологической новации А. Ф. Лосева) (2006)),\n",
       " Target(фонема, Андрей Геласимов. Рахиль (2004) // «Октябрь», 2003),\n",
       " Target(фонема, Михаил Эпштейн. Поэтика близости // «Звезда», 2003),\n",
       " Target(фонема, [Staples] (2003) // «Рекламный мир», 2003.04.28)]"
      ]
     },
     "execution_count": 5,
     "metadata": {},
     "output_type": "execute_result"
    }
   ],
   "source": [
    "r[0].results"
   ]
  },
  {
   "cell_type": "code",
   "execution_count": 6,
   "metadata": {
    "collapsed": false
   },
   "outputs": [
    {
     "name": "stdout",
     "output_type": "stream",
     "text": [
      "1:  Для на́шего изложе́ния доста́точно счита́ть, что лингвисти́ческий те́рмин \"фоне́ма\" есть про́сто не́которое уточне́ние поня́тия \"звук языка́\". \n",
      "2:  В качестве исходных отношений ―  , в каковом отношении могли находиться две цепочки звуков языка и  , в каковом отношении могли находиться звук языка и фонема. \n",
      "3:   *Что касается термина «фонема», то здесь нам достаточно считать, что это просто некоторое уточнение понятия «звук языка». \n",
      "4:   Принцип состоит в том, что внешняя форма слов языка меняется не индивидуальным образом для каждого слова, а в силу процессов ― так называемых фонетических изменений (иначе ― фонетических переходов), охватывающих в данном языке в данную эпоху ВСЕ без исключения слова, где имеется определённая фонема (или сочетание фонем). \n",
      "5:  Фонема э под ударением после мягких согласных и шипящих превратилась в фонему о: пошёл, лжёшь, пшённый, пчёл, жён, козёл, нёс. \n",
      "6:  Реальная, звучная фонема, основательная во всех смыслах. \n",
      "7:  То, как структурирована фонема в качестве «пучка дифференциалов», или то, как «сделана» гоголевская «Шинель» и что и как она поэтому «говорит» слушателю, выявляется и анализируется в структурализме в качестве общего для всех слушателей и самого говорящего смысла, который можно адекватно восстановить и зафиксировать с помощью формально-логического описания. \n",
      "8:  Первая гласная фонема произносится как звук «е», а не «э». \n",
      "9:  Следуя логике лотмановского подхода к искусству, можно предложить понятие эротемы как структурно-тематической единицы эроса (термин образован с тем же французским суффиксом «ем», что и другие обозначения структурных единиц языка: «лексема, морфема, фонема» и пр. \n",
      "10:  Я с удовольствием покупаю микояновскую колбасу, только я давно забыл, что, оказывается, она «овальчик ням», делаю вывод, что данная фонема не способствует запоминанию торговой марки. \n"
     ]
    }
   ],
   "source": [
    "for i, _r in enumerate(r[0].results): print('%s: %s' % (i + 1, _r.text))"
   ]
  },
  {
   "cell_type": "code",
   "execution_count": 8,
   "metadata": {
    "collapsed": false
   },
   "outputs": [
    {
     "name": "stdout",
     "output_type": "stream",
     "text": [
      "1: доста́точно счита́ть, что лингвисти́ческий те́рмин\" \t фонема \t \"есть про́сто не́которое уточне́ние поня́тия\n",
      "2: могли находиться звук языка и \t фонема \t .\n",
      "3: *Что касается термина« \t фонема \t »,то здесь нам достаточно считать,\n",
      "4: исключения слова, где имеется определённая \t фонема \t (или сочетание фонем).\n",
      "5:  \t Фонема \t э под ударением после мягких\n",
      "6: Реальная, звучная \t фонема \t ,основательная во всех смыслах.\n",
      "7: То, как структурирована \t фонема \t в качестве «пучка дифференциалов», или\n",
      "8: Первая гласная \t фонема \t произносится как звук «е», а\n",
      "9: структурных единиц языка: «лексема, морфема, \t фонема \t »и пр.\n",
      "10: ням», делаю вывод, что данная \t фонема \t не способствует запоминанию торговой марки.\n"
     ]
    }
   ],
   "source": [
    "# kwic\n",
    "for i, _r in enumerate(r[0].results): print('%s: %s \\t %s \\t %s' % (i + 1, *_r.kwic(5, 5)))"
   ]
  },
  {
   "cell_type": "code",
   "execution_count": null,
   "metadata": {
    "collapsed": true
   },
   "outputs": [],
   "source": []
  },
  {
   "cell_type": "code",
   "execution_count": 3,
   "metadata": {
    "collapsed": false
   },
   "outputs": [
    {
     "name": "stderr",
     "output_type": "stream",
     "text": [
      "Query \"велярный\":   0%|                                                                        | 0/5 [00:00<?, ?docs/s]\n",
      "C:\\Users\\PC\\lingcorpora\\build\\lingcorpora.py:63: UserWarning: Nothing found for query \"велярный\".\n",
      "Unsuccessful queries are available via Query.unsuccessful\n",
      "  warnings.warn(self.__warn % q)\n",
      "Query \"йот\": 100%|█████████████████████████████████████████████████████████████████████| 5/5 [00:01<00:00,  3.39docs/s]\n"
     ]
    }
   ],
   "source": [
    "r2 = q.search(['велярный', 'йот'], numResults=5, tag=True) "
   ]
  },
  {
   "cell_type": "code",
   "execution_count": 4,
   "metadata": {
    "collapsed": false
   },
   "outputs": [
    {
     "data": {
      "text/plain": [
       "[Result(велярный, 0), Result(йот, 5)]"
      ]
     },
     "execution_count": 4,
     "metadata": {},
     "output_type": "execute_result"
    }
   ],
   "source": [
    "r2"
   ]
  },
  {
   "cell_type": "code",
   "execution_count": 8,
   "metadata": {
    "collapsed": false
   },
   "outputs": [
    {
     "data": {
      "text/plain": [
       "['велярный']"
      ]
     },
     "execution_count": 8,
     "metadata": {},
     "output_type": "execute_result"
    }
   ],
   "source": [
    "q.unsuccessful"
   ]
  },
  {
   "cell_type": "code",
   "execution_count": 5,
   "metadata": {
    "collapsed": false
   },
   "outputs": [
    {
     "data": {
      "text/plain": [
       "{'flags': ['adash',\n",
       "  'amark',\n",
       "  'casered',\n",
       "  'genderred',\n",
       "  'norm',\n",
       "  'numred',\n",
       "  'posred'],\n",
       " 'gramm': ['S', 'inan', 'f', 'pl', 'gen', 'disamb'],\n",
       " 'lex': ['йота'],\n",
       " 'sem': ['r:concr', 't:letter']}"
      ]
     },
     "execution_count": 5,
     "metadata": {},
     "output_type": "execute_result"
    }
   ],
   "source": [
    "r2[1].results[0].tags"
   ]
  }
 ],
 "metadata": {
  "anaconda-cloud": {},
  "kernelspec": {
   "display_name": "Python [default]",
   "language": "python",
   "name": "python3"
  },
  "language_info": {
   "codemirror_mode": {
    "name": "ipython",
    "version": 3
   },
   "file_extension": ".py",
   "mimetype": "text/x-python",
   "name": "python",
   "nbconvert_exporter": "python",
   "pygments_lexer": "ipython3",
   "version": "3.5.2"
  }
 },
 "nbformat": 4,
 "nbformat_minor": 2
}
