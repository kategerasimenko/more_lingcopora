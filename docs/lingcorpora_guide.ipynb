{
 "cells": [
  {
   "cell_type": "markdown",
   "metadata": {},
   "source": [
    "# Making new API"
   ]
  },
  {
   "cell_type": "markdown",
   "metadata": {},
   "source": [
    "## Main concept\n",
    "\n",
    "* Search is done via `Corpus` object (`search` method)\n",
    "* Each API of a corpus, dictionary, etc. is a `PageParser` class (see below) which has method `.extract()`.\n",
    "* `PageParser.extract()` is a generator (see `yield` in Python) of `Target` objects (individual hits).\n",
    "* `PageParser` inherits from `Container`, which is a class in `params_container.py` and contains all possible parameters for corpora.\n",
    "* All `Target` objects are collected in `search` (in the `Corpus` object) into the `Result` object.\n",
    "* Documentation for users can be found [here](https://lingcorpora.github.io/lingcorpora.py/docs.html)"
   ]
  },
  {
   "cell_type": "markdown",
   "metadata": {},
   "source": [
    "## To make a new API\n",
    "1. Make a `PageParser` object\n",
    "  1. It inherits from `Container` and `Container` constructor is called in `__init__` (see example below)\n",
    "  2. It has method `extract()` which `yield`s `Target` objects\n",
    "  3. All other (auxiliary) parameters in `PageParser` should be encapsulated (add to underscores `__` to their names)\n",
    "2. You should pass to `Target` object the following information:\n",
    "  1. whole sentence (`text`) - string\n",
    "  2. indices (`idxs`) of the target in the sentence: `l` and `r` such that target == `text[l:r]` - tuple\n",
    "  3. metadata (`meta`) (document name, author, year, etc.) - string. If there is no meta, then pass empty string\n",
    "  4. grammar tags (`tags`) - dict. If there are no tags, pass empty dict\n",
    "  5. for parallel corpora: translation (`transl`) - translation from `queryLanguage` to another language\n",
    "  6. for parallel corpora: language (`lang`) - the other language (not `queryLanguage`) in the example pair\n",
    "  7. **Important**: if there are several target occurrences in one example, you should split them into **separate** Target objects.\n",
    "3. Write the docstring `__doc__` and the author `__author__` before `PageParser`\n",
    "4. Name the file *langcode*\\_corpus.py and place it into the `corpora` directory. *langcode* stands for [ISO 639-3 code](https://en.wikipedia.org/wiki/List_of_ISO_639-1_codes)\n",
    "5. For testing purposes querying data must be provided via `<dict>` named `TEST_DATA` (see template below for details) \n",
    "6. If you would like to add new search parameters, open `params_container.py` and add this parameter to the arguments (**do not forget default value**) and attributes.\n",
    "7. Make a pull request and if API is OK, we will:\n",
    "  1. Add it to the package\n",
    "  2. Include it in the docs\n",
    "  \n",
    "## API template"
   ]
  },
  {
   "cell_type": "code",
   "execution_count": null,
   "metadata": {
    "collapsed": true
   },
   "outputs": [],
   "source": [
    "from params_container import Container\n",
    "from target import Target\n",
    "\n",
    "\n",
    "__author__ = ''\n",
    "__doc__ = \\\n",
    "\"\"\"\n",
    "\"\"\"\n",
    "\n",
    "# <dict> of querying data passed to `Corpus.search` as kwargs while testing\n",
    "# keys and types to be preserved\n",
    "\n",
    "TEST_DATA = {'test_single_query': {'query': <str>, ...},                            # {arg: value, ...}\n",
    "             'test_multi_query': {'query': [<str 1>, <str 2>, ... <str N>], ...}    # {arg: value, ...}\n",
    "            }\n",
    "\n",
    "\n",
    "class PageParser(Container):\n",
    "    def __init__(self, *args, **kwargs):\n",
    "        super().__init__(*args, **kwargs)\n",
    "        # inner auxiliary attributes:\n",
    "        # self.__page = None\n",
    "        # self.__pagenum = 0\n",
    "        # ...\n",
    "    \n",
    "    def any_method_for_getting_the_results(self):\n",
    "        pass\n",
    "    \n",
    "    # ...\n",
    "    \n",
    "    def any_method_for_getting_the_results_10(self):\n",
    "        pass\n",
    "    \n",
    "    def extract(self):\n",
    "        \"\"\"\n",
    "        --- Generator of found occurrences as `Target` types\n",
    "            Query.search() uses this method---\n",
    "        \"\"\"\n",
    "        # ...\n",
    "        \n",
    "        # for each occurrence found we pass `Target` object,\n",
    "        # describing the occurrence, to Query.search()\n",
    "        # for parallel corpora also transl and lang\n",
    "        for text, idxs, meta, tags in found:\n",
    "            yield Target(text, idxs, meta, tags)"
   ]
  }
 ],
 "metadata": {
  "anaconda-cloud": {},
  "kernelspec": {
   "display_name": "Python 3",
   "language": "python",
   "name": "python3"
  },
  "language_info": {
   "codemirror_mode": {
    "name": "ipython",
    "version": 3
   },
   "file_extension": ".py",
   "mimetype": "text/x-python",
   "name": "python",
   "nbconvert_exporter": "python",
   "pygments_lexer": "ipython3",
   "version": "3.6.1"
  }
 },
 "nbformat": 4,
 "nbformat_minor": 2
}
